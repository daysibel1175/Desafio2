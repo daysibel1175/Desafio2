{
 "cells": [
  {
   "cell_type": "code",
   "execution_count": 105,
   "id": "200bb118",
   "metadata": {},
   "outputs": [
    {
     "name": "stdout",
     "output_type": "stream",
     "text": [
      "Requirement already satisfied: path in c:\\users\\daysi\\anaconda3\\lib\\site-packages (16.7.1)\n",
      "Requirement already satisfied: datetime in c:\\users\\daysi\\anaconda3\\lib\\site-packages (5.2)\n",
      "Requirement already satisfied: pytz in c:\\users\\daysi\\anaconda3\\lib\\site-packages (from datetime) (2021.3)\n",
      "Requirement already satisfied: zope.interface in c:\\users\\daysi\\anaconda3\\lib\\site-packages (from datetime) (5.4.0)\n",
      "Requirement already satisfied: setuptools in c:\\users\\daysi\\anaconda3\\lib\\site-packages (from zope.interface->datetime) (61.2.0)\n"
     ]
    }
   ],
   "source": [
    "!pip install path\n",
    "!pip install datetime"
   ]
  },
  {
   "cell_type": "code",
   "execution_count": 106,
   "id": "cbb8cd5c",
   "metadata": {},
   "outputs": [],
   "source": [
    "import pyautogui as py\n",
    "from pathlib import Path\n",
    "import shutil\n",
    "import zipfile\n",
    "import os\n",
    "import time"
   ]
  },
  {
   "cell_type": "code",
   "execution_count": 107,
   "id": "9e5ecdd5",
   "metadata": {},
   "outputs": [],
   "source": [
    "PastaBackup = 'c:/Users/daysi/OneDrive/Área de Trabalho/destino/'\n",
    "NovaPasta = 'c:/Users/daysi/OneDrive/Área de Trabalho/BackupData/'\n",
    "SubPasta = NovaPasta + 'copia_backup'"
   ]
  },
  {
   "cell_type": "code",
   "execution_count": 108,
   "id": "e2aca2dd",
   "metadata": {},
   "outputs": [
    {
     "name": "stdout",
     "output_type": "stream",
     "text": [
      "c:/Users/daysi/OneDrive/Área de Trabalho/BackupData/copia_backup\n"
     ]
    }
   ],
   "source": [
    "class StepBackup:\n",
    "\n",
    "    def CriarNovaPasta(self):\n",
    "        Path(NovaPasta).mkdir(exist_ok=True, parents=True)\n",
    "        \n",
    "    def CopiarBackup(self):\n",
    "        StepBackup.CriarNovaPasta(self)\n",
    "        shutil.copytree(PastaBackup, SubPasta, dirs_exist_ok=True)\n",
    "        StepBackup.Compactar(self)\n",
    "    \n",
    "    def Compactar(self):\n",
    "        print(SubPasta)\n",
    "        \n",
    "        zip = zipfile.ZipFile(SubPasta + '.zip', 'w')\n",
    "        \n",
    "        for folder, subfolder, files in os.walk(SubPasta):\n",
    "            for file in files:\n",
    "                \n",
    "                zip.write(os.path.join(folder, file),os.path.relpath(os.path.join(folder, file),\n",
    "                                                                     SubPasta),\n",
    "                                  compress_type=zipfile.ZIP_DEFLATED)\n",
    "        zip.close()\n",
    "\n",
    "StepBackup.CopiarBackup(self='')\n",
    "           "
   ]
  },
  {
   "cell_type": "code",
   "execution_count": 111,
   "id": "f17108a4",
   "metadata": {},
   "outputs": [],
   "source": [
    "APE = r'c:\\Users\\daysi\\OneDrive\\Área de Trabalho\\BackupData\\copia_backup'\n",
    "\n",
    "py.PAUSE = 2\n",
    "py.press('win')\n",
    "py.write('chrome')\n",
    "py.sleep(2)\n",
    "py.press('enter')\n",
    "py.click(x=440, y=420)\n",
    "py.sleep(1)\n",
    "py.click(x=1166, y=108)\n",
    "py.sleep(3)\n",
    "py.click(x=60, y=182)\n",
    "py.sleep(2)\n",
    "py.write('daysicotiz2@gmail.com')\n",
    "py.press('enter')\n",
    "py.press('tab')\n",
    "py.write('Backup')\n",
    "py.press('tab')\n",
    "py.write('Backup concluido com sucesso!')\n",
    "py.hotkey(\"ctrl\", \"enter\")"
   ]
  },
  {
   "cell_type": "markdown",
   "id": "580667f2",
   "metadata": {},
   "source": [
    "py.sleep(10)\n",
    "py.position()"
   ]
  },
  {
   "cell_type": "code",
   "execution_count": null,
   "id": "668fb406",
   "metadata": {},
   "outputs": [],
   "source": []
  }
 ],
 "metadata": {
  "kernelspec": {
   "display_name": "Python 3 (ipykernel)",
   "language": "python",
   "name": "python3"
  },
  "language_info": {
   "codemirror_mode": {
    "name": "ipython",
    "version": 3
   },
   "file_extension": ".py",
   "mimetype": "text/x-python",
   "name": "python",
   "nbconvert_exporter": "python",
   "pygments_lexer": "ipython3",
   "version": "3.9.12"
  }
 },
 "nbformat": 4,
 "nbformat_minor": 5
}
